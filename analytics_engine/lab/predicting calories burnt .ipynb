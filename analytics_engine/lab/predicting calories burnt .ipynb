{
 "cells": [
  {
   "cell_type": "code",
   "execution_count": 52,
   "id": "cb235450-e81f-4398-b6e4-0a7cdef2f066",
   "metadata": {},
   "outputs": [],
   "source": [
    "import pandas as pd\n",
    "import seaborn as sns\n",
    "import matplotlib.pyplot as plt\n",
    "import numpy as np\n",
    "from IPython.display import display\n",
    "import pickle\n",
    "from datetime import datetime\n",
    "\n",
    "from sklearn.preprocessing import OneHotEncoder\n",
    "from sklearn.metrics import mean_absolute_error, mean_squared_error, r2_score\n",
    "from sklearn.model_selection import train_test_split\n",
    "\n",
    "from sklearn.linear_model import LinearRegression, Ridge, Lasso\n",
    "from sklearn.neighbors import KNeighborsRegressor\n",
    "from sklearn.tree import DecisionTreeRegressor\n",
    "from sklearn.ensemble import (RandomForestRegressor, GradientBoostingRegressor, \n",
    "                              AdaBoostRegressor)"
   ]
  },
  {
   "cell_type": "code",
   "execution_count": 53,
   "id": "b446d7d8-72ce-491b-9f62-cef914e8015e",
   "metadata": {},
   "outputs": [],
   "source": [
    "data = pd.read_csv('clean_ml_data.csv')"
   ]
  },
  {
   "cell_type": "code",
   "execution_count": 54,
   "id": "346ffcb6-8649-4886-807b-3598d6dafb17",
   "metadata": {},
   "outputs": [
    {
     "data": {
      "text/html": [
       "<div>\n",
       "<style scoped>\n",
       "    .dataframe tbody tr th:only-of-type {\n",
       "        vertical-align: middle;\n",
       "    }\n",
       "\n",
       "    .dataframe tbody tr th {\n",
       "        vertical-align: top;\n",
       "    }\n",
       "\n",
       "    .dataframe thead th {\n",
       "        text-align: right;\n",
       "    }\n",
       "</style>\n",
       "<table border=\"1\" class=\"dataframe\">\n",
       "  <thead>\n",
       "    <tr style=\"text-align: right;\">\n",
       "      <th></th>\n",
       "      <th>type</th>\n",
       "      <th>calories burned</th>\n",
       "      <th>climb (m)</th>\n",
       "      <th>duration(s)</th>\n",
       "      <th>distance(m)</th>\n",
       "      <th>speed(m/s)</th>\n",
       "      <th>calories burned per second</th>\n",
       "      <th>day_of_week</th>\n",
       "      <th>month</th>\n",
       "    </tr>\n",
       "  </thead>\n",
       "  <tbody>\n",
       "    <tr>\n",
       "      <th>0</th>\n",
       "      <td>Running</td>\n",
       "      <td>774.0</td>\n",
       "      <td>130</td>\n",
       "      <td>3520.0</td>\n",
       "      <td>10440.0</td>\n",
       "      <td>2.966667</td>\n",
       "      <td>0.219886</td>\n",
       "      <td>Sunday</td>\n",
       "      <td>November</td>\n",
       "    </tr>\n",
       "    <tr>\n",
       "      <th>1</th>\n",
       "      <td>Running</td>\n",
       "      <td>954.0</td>\n",
       "      <td>168</td>\n",
       "      <td>4454.0</td>\n",
       "      <td>12840.0</td>\n",
       "      <td>2.886111</td>\n",
       "      <td>0.214189</td>\n",
       "      <td>Friday</td>\n",
       "      <td>November</td>\n",
       "    </tr>\n",
       "    <tr>\n",
       "      <th>2</th>\n",
       "      <td>Running</td>\n",
       "      <td>967.0</td>\n",
       "      <td>171</td>\n",
       "      <td>4515.0</td>\n",
       "      <td>13010.0</td>\n",
       "      <td>2.880556</td>\n",
       "      <td>0.214175</td>\n",
       "      <td>Sunday</td>\n",
       "      <td>November</td>\n",
       "    </tr>\n",
       "    <tr>\n",
       "      <th>3</th>\n",
       "      <td>Running</td>\n",
       "      <td>960.0</td>\n",
       "      <td>169</td>\n",
       "      <td>4454.0</td>\n",
       "      <td>12980.0</td>\n",
       "      <td>2.908333</td>\n",
       "      <td>0.215537</td>\n",
       "      <td>Thursday</td>\n",
       "      <td>November</td>\n",
       "    </tr>\n",
       "    <tr>\n",
       "      <th>4</th>\n",
       "      <td>Running</td>\n",
       "      <td>967.0</td>\n",
       "      <td>170</td>\n",
       "      <td>4332.0</td>\n",
       "      <td>13020.0</td>\n",
       "      <td>2.980556</td>\n",
       "      <td>0.223223</td>\n",
       "      <td>Saturday</td>\n",
       "      <td>October</td>\n",
       "    </tr>\n",
       "  </tbody>\n",
       "</table>\n",
       "</div>"
      ],
      "text/plain": [
       "      type  calories burned  climb (m)  duration(s)  distance(m)  speed(m/s)  \\\n",
       "0  Running            774.0        130       3520.0      10440.0    2.966667   \n",
       "1  Running            954.0        168       4454.0      12840.0    2.886111   \n",
       "2  Running            967.0        171       4515.0      13010.0    2.880556   \n",
       "3  Running            960.0        169       4454.0      12980.0    2.908333   \n",
       "4  Running            967.0        170       4332.0      13020.0    2.980556   \n",
       "\n",
       "   calories burned per second day_of_week     month  \n",
       "0                    0.219886      Sunday  November  \n",
       "1                    0.214189      Friday  November  \n",
       "2                    0.214175      Sunday  November  \n",
       "3                    0.215537    Thursday  November  \n",
       "4                    0.223223    Saturday   October  "
      ]
     },
     "execution_count": 54,
     "metadata": {},
     "output_type": "execute_result"
    }
   ],
   "source": [
    "data.head()"
   ]
  },
  {
   "cell_type": "code",
   "execution_count": 55,
   "id": "2404cd38-d323-4f9e-9a2c-806ca09eaa7f",
   "metadata": {},
   "outputs": [
    {
     "name": "stdout",
     "output_type": "stream",
     "text": [
      "<class 'pandas.core.frame.DataFrame'>\n",
      "RangeIndex: 426 entries, 0 to 425\n",
      "Data columns (total 9 columns):\n",
      " #   Column                      Non-Null Count  Dtype  \n",
      "---  ------                      --------------  -----  \n",
      " 0   type                        426 non-null    object \n",
      " 1   calories burned             426 non-null    float64\n",
      " 2   climb (m)                   426 non-null    int64  \n",
      " 3   duration(s)                 426 non-null    float64\n",
      " 4   distance(m)                 426 non-null    float64\n",
      " 5   speed(m/s)                  426 non-null    float64\n",
      " 6   calories burned per second  426 non-null    float64\n",
      " 7   day_of_week                 426 non-null    object \n",
      " 8   month                       426 non-null    object \n",
      "dtypes: float64(5), int64(1), object(3)\n",
      "memory usage: 30.1+ KB\n"
     ]
    }
   ],
   "source": [
    "data.info()"
   ]
  },
  {
   "cell_type": "markdown",
   "id": "4e4b1053-8703-4820-85cc-8720e07bcce6",
   "metadata": {},
   "source": [
    "### remove infered columns"
   ]
  },
  {
   "cell_type": "code",
   "execution_count": 56,
   "id": "6253ed31-7170-4578-979c-1ef81ae2928a",
   "metadata": {},
   "outputs": [],
   "source": [
    "data = data.drop(['calories burned per second', 'speed(m/s)'], axis=1)"
   ]
  },
  {
   "cell_type": "code",
   "execution_count": 57,
   "id": "654eb5e6-2880-48c2-9c04-455d7442fe62",
   "metadata": {},
   "outputs": [
    {
     "data": {
      "text/html": [
       "<div>\n",
       "<style scoped>\n",
       "    .dataframe tbody tr th:only-of-type {\n",
       "        vertical-align: middle;\n",
       "    }\n",
       "\n",
       "    .dataframe tbody tr th {\n",
       "        vertical-align: top;\n",
       "    }\n",
       "\n",
       "    .dataframe thead th {\n",
       "        text-align: right;\n",
       "    }\n",
       "</style>\n",
       "<table border=\"1\" class=\"dataframe\">\n",
       "  <thead>\n",
       "    <tr style=\"text-align: right;\">\n",
       "      <th></th>\n",
       "      <th>type</th>\n",
       "      <th>calories burned</th>\n",
       "      <th>climb (m)</th>\n",
       "      <th>duration(s)</th>\n",
       "      <th>distance(m)</th>\n",
       "      <th>day_of_week</th>\n",
       "      <th>month</th>\n",
       "    </tr>\n",
       "  </thead>\n",
       "  <tbody>\n",
       "    <tr>\n",
       "      <th>0</th>\n",
       "      <td>Running</td>\n",
       "      <td>774.0</td>\n",
       "      <td>130</td>\n",
       "      <td>3520.0</td>\n",
       "      <td>10440.0</td>\n",
       "      <td>Sunday</td>\n",
       "      <td>November</td>\n",
       "    </tr>\n",
       "    <tr>\n",
       "      <th>1</th>\n",
       "      <td>Running</td>\n",
       "      <td>954.0</td>\n",
       "      <td>168</td>\n",
       "      <td>4454.0</td>\n",
       "      <td>12840.0</td>\n",
       "      <td>Friday</td>\n",
       "      <td>November</td>\n",
       "    </tr>\n",
       "    <tr>\n",
       "      <th>2</th>\n",
       "      <td>Running</td>\n",
       "      <td>967.0</td>\n",
       "      <td>171</td>\n",
       "      <td>4515.0</td>\n",
       "      <td>13010.0</td>\n",
       "      <td>Sunday</td>\n",
       "      <td>November</td>\n",
       "    </tr>\n",
       "    <tr>\n",
       "      <th>3</th>\n",
       "      <td>Running</td>\n",
       "      <td>960.0</td>\n",
       "      <td>169</td>\n",
       "      <td>4454.0</td>\n",
       "      <td>12980.0</td>\n",
       "      <td>Thursday</td>\n",
       "      <td>November</td>\n",
       "    </tr>\n",
       "    <tr>\n",
       "      <th>4</th>\n",
       "      <td>Running</td>\n",
       "      <td>967.0</td>\n",
       "      <td>170</td>\n",
       "      <td>4332.0</td>\n",
       "      <td>13020.0</td>\n",
       "      <td>Saturday</td>\n",
       "      <td>October</td>\n",
       "    </tr>\n",
       "  </tbody>\n",
       "</table>\n",
       "</div>"
      ],
      "text/plain": [
       "      type  calories burned  climb (m)  duration(s)  distance(m) day_of_week  \\\n",
       "0  Running            774.0        130       3520.0      10440.0      Sunday   \n",
       "1  Running            954.0        168       4454.0      12840.0      Friday   \n",
       "2  Running            967.0        171       4515.0      13010.0      Sunday   \n",
       "3  Running            960.0        169       4454.0      12980.0    Thursday   \n",
       "4  Running            967.0        170       4332.0      13020.0    Saturday   \n",
       "\n",
       "      month  \n",
       "0  November  \n",
       "1  November  \n",
       "2  November  \n",
       "3  November  \n",
       "4   October  "
      ]
     },
     "execution_count": 57,
     "metadata": {},
     "output_type": "execute_result"
    }
   ],
   "source": [
    "data.head()"
   ]
  },
  {
   "cell_type": "markdown",
   "id": "ee2a44ff-5930-4df3-9e09-c1c5353d8b9a",
   "metadata": {},
   "source": [
    "### encoding the categorical variables"
   ]
  },
  {
   "cell_type": "code",
   "execution_count": 58,
   "id": "0e727341-5473-441a-bbd7-2b2444104d04",
   "metadata": {},
   "outputs": [
    {
     "data": {
      "text/html": [
       "<div>\n",
       "<style scoped>\n",
       "    .dataframe tbody tr th:only-of-type {\n",
       "        vertical-align: middle;\n",
       "    }\n",
       "\n",
       "    .dataframe tbody tr th {\n",
       "        vertical-align: top;\n",
       "    }\n",
       "\n",
       "    .dataframe thead th {\n",
       "        text-align: right;\n",
       "    }\n",
       "</style>\n",
       "<table border=\"1\" class=\"dataframe\">\n",
       "  <thead>\n",
       "    <tr style=\"text-align: right;\">\n",
       "      <th></th>\n",
       "      <th>type</th>\n",
       "      <th>calories burned</th>\n",
       "      <th>climb (m)</th>\n",
       "      <th>duration(s)</th>\n",
       "      <th>distance(m)</th>\n",
       "      <th>day_of_week</th>\n",
       "      <th>month</th>\n",
       "      <th>type_Cycling</th>\n",
       "      <th>type_Running</th>\n",
       "    </tr>\n",
       "  </thead>\n",
       "  <tbody>\n",
       "    <tr>\n",
       "      <th>0</th>\n",
       "      <td>Running</td>\n",
       "      <td>774.0</td>\n",
       "      <td>130</td>\n",
       "      <td>3520.0</td>\n",
       "      <td>10440.0</td>\n",
       "      <td>Sunday</td>\n",
       "      <td>November</td>\n",
       "      <td>0.0</td>\n",
       "      <td>1.0</td>\n",
       "    </tr>\n",
       "    <tr>\n",
       "      <th>1</th>\n",
       "      <td>Running</td>\n",
       "      <td>954.0</td>\n",
       "      <td>168</td>\n",
       "      <td>4454.0</td>\n",
       "      <td>12840.0</td>\n",
       "      <td>Friday</td>\n",
       "      <td>November</td>\n",
       "      <td>0.0</td>\n",
       "      <td>1.0</td>\n",
       "    </tr>\n",
       "    <tr>\n",
       "      <th>2</th>\n",
       "      <td>Running</td>\n",
       "      <td>967.0</td>\n",
       "      <td>171</td>\n",
       "      <td>4515.0</td>\n",
       "      <td>13010.0</td>\n",
       "      <td>Sunday</td>\n",
       "      <td>November</td>\n",
       "      <td>0.0</td>\n",
       "      <td>1.0</td>\n",
       "    </tr>\n",
       "    <tr>\n",
       "      <th>3</th>\n",
       "      <td>Running</td>\n",
       "      <td>960.0</td>\n",
       "      <td>169</td>\n",
       "      <td>4454.0</td>\n",
       "      <td>12980.0</td>\n",
       "      <td>Thursday</td>\n",
       "      <td>November</td>\n",
       "      <td>0.0</td>\n",
       "      <td>1.0</td>\n",
       "    </tr>\n",
       "    <tr>\n",
       "      <th>4</th>\n",
       "      <td>Running</td>\n",
       "      <td>967.0</td>\n",
       "      <td>170</td>\n",
       "      <td>4332.0</td>\n",
       "      <td>13020.0</td>\n",
       "      <td>Saturday</td>\n",
       "      <td>October</td>\n",
       "      <td>0.0</td>\n",
       "      <td>1.0</td>\n",
       "    </tr>\n",
       "  </tbody>\n",
       "</table>\n",
       "</div>"
      ],
      "text/plain": [
       "      type  calories burned  climb (m)  duration(s)  distance(m) day_of_week  \\\n",
       "0  Running            774.0        130       3520.0      10440.0      Sunday   \n",
       "1  Running            954.0        168       4454.0      12840.0      Friday   \n",
       "2  Running            967.0        171       4515.0      13010.0      Sunday   \n",
       "3  Running            960.0        169       4454.0      12980.0    Thursday   \n",
       "4  Running            967.0        170       4332.0      13020.0    Saturday   \n",
       "\n",
       "      month  type_Cycling  type_Running  \n",
       "0  November           0.0           1.0  \n",
       "1  November           0.0           1.0  \n",
       "2  November           0.0           1.0  \n",
       "3  November           0.0           1.0  \n",
       "4   October           0.0           1.0  "
      ]
     },
     "execution_count": 58,
     "metadata": {},
     "output_type": "execute_result"
    }
   ],
   "source": [
    "type_categories = data[['type']]\n",
    "type_encoder = OneHotEncoder()\n",
    "one_hot_encoded = type_encoder.fit_transform(type_categories).toarray()\n",
    "one_hot_df = pd.DataFrame(one_hot_encoded, columns=type_encoder.get_feature_names_out(['type']))\n",
    "data = pd.concat([data, one_hot_df], axis=1)\n",
    "data.head()"
   ]
  },
  {
   "cell_type": "code",
   "execution_count": 59,
   "id": "aa773240-cdd8-4e29-8339-16ee7ddb6a84",
   "metadata": {},
   "outputs": [
    {
     "name": "stderr",
     "output_type": "stream",
     "text": [
      "/Users/dalmas.otieno/Documents/learnings/d3/cardio-activities-analysis/analytics_engine/venv/lib/python3.10/site-packages/sklearn/base.py:465: UserWarning: X does not have valid feature names, but OneHotEncoder was fitted with feature names\n",
      "  warnings.warn(\n"
     ]
    },
    {
     "data": {
      "text/plain": [
       "array([0., 1.])"
      ]
     },
     "execution_count": 59,
     "metadata": {},
     "output_type": "execute_result"
    }
   ],
   "source": [
    "type_encoder.transform(np.array(['running'.title()]).reshape(1, -1)).toarray()[0]"
   ]
  },
  {
   "cell_type": "code",
   "execution_count": 60,
   "id": "8cab8a3d-f31e-4b33-a7e2-5b2cfdc881d2",
   "metadata": {},
   "outputs": [],
   "source": [
    "with open(f'../api/ml_models/type_encoder.pkl', \"wb\") as file:\n",
    "    pickle.dump(type_encoder, file)"
   ]
  },
  {
   "cell_type": "code",
   "execution_count": 61,
   "id": "47264313-08b3-47a0-bbb0-e2f278e9b55e",
   "metadata": {},
   "outputs": [
    {
     "data": {
      "text/html": [
       "<div>\n",
       "<style scoped>\n",
       "    .dataframe tbody tr th:only-of-type {\n",
       "        vertical-align: middle;\n",
       "    }\n",
       "\n",
       "    .dataframe tbody tr th {\n",
       "        vertical-align: top;\n",
       "    }\n",
       "\n",
       "    .dataframe thead th {\n",
       "        text-align: right;\n",
       "    }\n",
       "</style>\n",
       "<table border=\"1\" class=\"dataframe\">\n",
       "  <thead>\n",
       "    <tr style=\"text-align: right;\">\n",
       "      <th></th>\n",
       "      <th>type</th>\n",
       "      <th>calories burned</th>\n",
       "      <th>climb (m)</th>\n",
       "      <th>duration(s)</th>\n",
       "      <th>distance(m)</th>\n",
       "      <th>day_of_week</th>\n",
       "      <th>month</th>\n",
       "      <th>type_Cycling</th>\n",
       "      <th>type_Running</th>\n",
       "      <th>month_April</th>\n",
       "      <th>...</th>\n",
       "      <th>month_December</th>\n",
       "      <th>month_February</th>\n",
       "      <th>month_January</th>\n",
       "      <th>month_July</th>\n",
       "      <th>month_June</th>\n",
       "      <th>month_March</th>\n",
       "      <th>month_May</th>\n",
       "      <th>month_November</th>\n",
       "      <th>month_October</th>\n",
       "      <th>month_September</th>\n",
       "    </tr>\n",
       "  </thead>\n",
       "  <tbody>\n",
       "    <tr>\n",
       "      <th>0</th>\n",
       "      <td>Running</td>\n",
       "      <td>774.0</td>\n",
       "      <td>130</td>\n",
       "      <td>3520.0</td>\n",
       "      <td>10440.0</td>\n",
       "      <td>Sunday</td>\n",
       "      <td>November</td>\n",
       "      <td>0.0</td>\n",
       "      <td>1.0</td>\n",
       "      <td>0.0</td>\n",
       "      <td>...</td>\n",
       "      <td>0.0</td>\n",
       "      <td>0.0</td>\n",
       "      <td>0.0</td>\n",
       "      <td>0.0</td>\n",
       "      <td>0.0</td>\n",
       "      <td>0.0</td>\n",
       "      <td>0.0</td>\n",
       "      <td>1.0</td>\n",
       "      <td>0.0</td>\n",
       "      <td>0.0</td>\n",
       "    </tr>\n",
       "    <tr>\n",
       "      <th>1</th>\n",
       "      <td>Running</td>\n",
       "      <td>954.0</td>\n",
       "      <td>168</td>\n",
       "      <td>4454.0</td>\n",
       "      <td>12840.0</td>\n",
       "      <td>Friday</td>\n",
       "      <td>November</td>\n",
       "      <td>0.0</td>\n",
       "      <td>1.0</td>\n",
       "      <td>0.0</td>\n",
       "      <td>...</td>\n",
       "      <td>0.0</td>\n",
       "      <td>0.0</td>\n",
       "      <td>0.0</td>\n",
       "      <td>0.0</td>\n",
       "      <td>0.0</td>\n",
       "      <td>0.0</td>\n",
       "      <td>0.0</td>\n",
       "      <td>1.0</td>\n",
       "      <td>0.0</td>\n",
       "      <td>0.0</td>\n",
       "    </tr>\n",
       "    <tr>\n",
       "      <th>2</th>\n",
       "      <td>Running</td>\n",
       "      <td>967.0</td>\n",
       "      <td>171</td>\n",
       "      <td>4515.0</td>\n",
       "      <td>13010.0</td>\n",
       "      <td>Sunday</td>\n",
       "      <td>November</td>\n",
       "      <td>0.0</td>\n",
       "      <td>1.0</td>\n",
       "      <td>0.0</td>\n",
       "      <td>...</td>\n",
       "      <td>0.0</td>\n",
       "      <td>0.0</td>\n",
       "      <td>0.0</td>\n",
       "      <td>0.0</td>\n",
       "      <td>0.0</td>\n",
       "      <td>0.0</td>\n",
       "      <td>0.0</td>\n",
       "      <td>1.0</td>\n",
       "      <td>0.0</td>\n",
       "      <td>0.0</td>\n",
       "    </tr>\n",
       "    <tr>\n",
       "      <th>3</th>\n",
       "      <td>Running</td>\n",
       "      <td>960.0</td>\n",
       "      <td>169</td>\n",
       "      <td>4454.0</td>\n",
       "      <td>12980.0</td>\n",
       "      <td>Thursday</td>\n",
       "      <td>November</td>\n",
       "      <td>0.0</td>\n",
       "      <td>1.0</td>\n",
       "      <td>0.0</td>\n",
       "      <td>...</td>\n",
       "      <td>0.0</td>\n",
       "      <td>0.0</td>\n",
       "      <td>0.0</td>\n",
       "      <td>0.0</td>\n",
       "      <td>0.0</td>\n",
       "      <td>0.0</td>\n",
       "      <td>0.0</td>\n",
       "      <td>1.0</td>\n",
       "      <td>0.0</td>\n",
       "      <td>0.0</td>\n",
       "    </tr>\n",
       "    <tr>\n",
       "      <th>4</th>\n",
       "      <td>Running</td>\n",
       "      <td>967.0</td>\n",
       "      <td>170</td>\n",
       "      <td>4332.0</td>\n",
       "      <td>13020.0</td>\n",
       "      <td>Saturday</td>\n",
       "      <td>October</td>\n",
       "      <td>0.0</td>\n",
       "      <td>1.0</td>\n",
       "      <td>0.0</td>\n",
       "      <td>...</td>\n",
       "      <td>0.0</td>\n",
       "      <td>0.0</td>\n",
       "      <td>0.0</td>\n",
       "      <td>0.0</td>\n",
       "      <td>0.0</td>\n",
       "      <td>0.0</td>\n",
       "      <td>0.0</td>\n",
       "      <td>0.0</td>\n",
       "      <td>1.0</td>\n",
       "      <td>0.0</td>\n",
       "    </tr>\n",
       "  </tbody>\n",
       "</table>\n",
       "<p>5 rows × 21 columns</p>\n",
       "</div>"
      ],
      "text/plain": [
       "      type  calories burned  climb (m)  duration(s)  distance(m) day_of_week  \\\n",
       "0  Running            774.0        130       3520.0      10440.0      Sunday   \n",
       "1  Running            954.0        168       4454.0      12840.0      Friday   \n",
       "2  Running            967.0        171       4515.0      13010.0      Sunday   \n",
       "3  Running            960.0        169       4454.0      12980.0    Thursday   \n",
       "4  Running            967.0        170       4332.0      13020.0    Saturday   \n",
       "\n",
       "      month  type_Cycling  type_Running  month_April  ...  month_December  \\\n",
       "0  November           0.0           1.0          0.0  ...             0.0   \n",
       "1  November           0.0           1.0          0.0  ...             0.0   \n",
       "2  November           0.0           1.0          0.0  ...             0.0   \n",
       "3  November           0.0           1.0          0.0  ...             0.0   \n",
       "4   October           0.0           1.0          0.0  ...             0.0   \n",
       "\n",
       "   month_February  month_January  month_July  month_June  month_March  \\\n",
       "0             0.0            0.0         0.0         0.0          0.0   \n",
       "1             0.0            0.0         0.0         0.0          0.0   \n",
       "2             0.0            0.0         0.0         0.0          0.0   \n",
       "3             0.0            0.0         0.0         0.0          0.0   \n",
       "4             0.0            0.0         0.0         0.0          0.0   \n",
       "\n",
       "   month_May  month_November  month_October  month_September  \n",
       "0        0.0             1.0            0.0              0.0  \n",
       "1        0.0             1.0            0.0              0.0  \n",
       "2        0.0             1.0            0.0              0.0  \n",
       "3        0.0             1.0            0.0              0.0  \n",
       "4        0.0             0.0            1.0              0.0  \n",
       "\n",
       "[5 rows x 21 columns]"
      ]
     },
     "execution_count": 61,
     "metadata": {},
     "output_type": "execute_result"
    }
   ],
   "source": [
    "month_categories = data[['month']]\n",
    "month_encoder = OneHotEncoder()\n",
    "one_hot_encoded = month_encoder.fit_transform(month_categories).toarray()\n",
    "one_hot_df = pd.DataFrame(one_hot_encoded, columns=month_encoder.get_feature_names_out(['month']))\n",
    "data = pd.concat([data, one_hot_df], axis=1)\n",
    "data.head()"
   ]
  },
  {
   "cell_type": "code",
   "execution_count": 62,
   "id": "c3f5ff68-f66c-4ab8-8737-42f6b212d883",
   "metadata": {},
   "outputs": [],
   "source": [
    "with open(f'../api/ml_models/month_encoder.pkl', \"wb\") as file:\n",
    "    pickle.dump(month_encoder, file)"
   ]
  },
  {
   "cell_type": "code",
   "execution_count": 63,
   "id": "e1dbd79c-9829-470a-9f56-e6b81fa2bb46",
   "metadata": {},
   "outputs": [
    {
     "data": {
      "text/html": [
       "<div>\n",
       "<style scoped>\n",
       "    .dataframe tbody tr th:only-of-type {\n",
       "        vertical-align: middle;\n",
       "    }\n",
       "\n",
       "    .dataframe tbody tr th {\n",
       "        vertical-align: top;\n",
       "    }\n",
       "\n",
       "    .dataframe thead th {\n",
       "        text-align: right;\n",
       "    }\n",
       "</style>\n",
       "<table border=\"1\" class=\"dataframe\">\n",
       "  <thead>\n",
       "    <tr style=\"text-align: right;\">\n",
       "      <th></th>\n",
       "      <th>type</th>\n",
       "      <th>calories burned</th>\n",
       "      <th>climb (m)</th>\n",
       "      <th>duration(s)</th>\n",
       "      <th>distance(m)</th>\n",
       "      <th>day_of_week</th>\n",
       "      <th>month</th>\n",
       "      <th>type_Cycling</th>\n",
       "      <th>type_Running</th>\n",
       "      <th>month_April</th>\n",
       "      <th>...</th>\n",
       "      <th>month_November</th>\n",
       "      <th>month_October</th>\n",
       "      <th>month_September</th>\n",
       "      <th>day_of_week_Friday</th>\n",
       "      <th>day_of_week_Monday</th>\n",
       "      <th>day_of_week_Saturday</th>\n",
       "      <th>day_of_week_Sunday</th>\n",
       "      <th>day_of_week_Thursday</th>\n",
       "      <th>day_of_week_Tuesday</th>\n",
       "      <th>day_of_week_Wednesday</th>\n",
       "    </tr>\n",
       "  </thead>\n",
       "  <tbody>\n",
       "    <tr>\n",
       "      <th>0</th>\n",
       "      <td>Running</td>\n",
       "      <td>774.0</td>\n",
       "      <td>130</td>\n",
       "      <td>3520.0</td>\n",
       "      <td>10440.0</td>\n",
       "      <td>Sunday</td>\n",
       "      <td>November</td>\n",
       "      <td>0.0</td>\n",
       "      <td>1.0</td>\n",
       "      <td>0.0</td>\n",
       "      <td>...</td>\n",
       "      <td>1.0</td>\n",
       "      <td>0.0</td>\n",
       "      <td>0.0</td>\n",
       "      <td>0.0</td>\n",
       "      <td>0.0</td>\n",
       "      <td>0.0</td>\n",
       "      <td>1.0</td>\n",
       "      <td>0.0</td>\n",
       "      <td>0.0</td>\n",
       "      <td>0.0</td>\n",
       "    </tr>\n",
       "    <tr>\n",
       "      <th>1</th>\n",
       "      <td>Running</td>\n",
       "      <td>954.0</td>\n",
       "      <td>168</td>\n",
       "      <td>4454.0</td>\n",
       "      <td>12840.0</td>\n",
       "      <td>Friday</td>\n",
       "      <td>November</td>\n",
       "      <td>0.0</td>\n",
       "      <td>1.0</td>\n",
       "      <td>0.0</td>\n",
       "      <td>...</td>\n",
       "      <td>1.0</td>\n",
       "      <td>0.0</td>\n",
       "      <td>0.0</td>\n",
       "      <td>1.0</td>\n",
       "      <td>0.0</td>\n",
       "      <td>0.0</td>\n",
       "      <td>0.0</td>\n",
       "      <td>0.0</td>\n",
       "      <td>0.0</td>\n",
       "      <td>0.0</td>\n",
       "    </tr>\n",
       "    <tr>\n",
       "      <th>2</th>\n",
       "      <td>Running</td>\n",
       "      <td>967.0</td>\n",
       "      <td>171</td>\n",
       "      <td>4515.0</td>\n",
       "      <td>13010.0</td>\n",
       "      <td>Sunday</td>\n",
       "      <td>November</td>\n",
       "      <td>0.0</td>\n",
       "      <td>1.0</td>\n",
       "      <td>0.0</td>\n",
       "      <td>...</td>\n",
       "      <td>1.0</td>\n",
       "      <td>0.0</td>\n",
       "      <td>0.0</td>\n",
       "      <td>0.0</td>\n",
       "      <td>0.0</td>\n",
       "      <td>0.0</td>\n",
       "      <td>1.0</td>\n",
       "      <td>0.0</td>\n",
       "      <td>0.0</td>\n",
       "      <td>0.0</td>\n",
       "    </tr>\n",
       "    <tr>\n",
       "      <th>3</th>\n",
       "      <td>Running</td>\n",
       "      <td>960.0</td>\n",
       "      <td>169</td>\n",
       "      <td>4454.0</td>\n",
       "      <td>12980.0</td>\n",
       "      <td>Thursday</td>\n",
       "      <td>November</td>\n",
       "      <td>0.0</td>\n",
       "      <td>1.0</td>\n",
       "      <td>0.0</td>\n",
       "      <td>...</td>\n",
       "      <td>1.0</td>\n",
       "      <td>0.0</td>\n",
       "      <td>0.0</td>\n",
       "      <td>0.0</td>\n",
       "      <td>0.0</td>\n",
       "      <td>0.0</td>\n",
       "      <td>0.0</td>\n",
       "      <td>1.0</td>\n",
       "      <td>0.0</td>\n",
       "      <td>0.0</td>\n",
       "    </tr>\n",
       "    <tr>\n",
       "      <th>4</th>\n",
       "      <td>Running</td>\n",
       "      <td>967.0</td>\n",
       "      <td>170</td>\n",
       "      <td>4332.0</td>\n",
       "      <td>13020.0</td>\n",
       "      <td>Saturday</td>\n",
       "      <td>October</td>\n",
       "      <td>0.0</td>\n",
       "      <td>1.0</td>\n",
       "      <td>0.0</td>\n",
       "      <td>...</td>\n",
       "      <td>0.0</td>\n",
       "      <td>1.0</td>\n",
       "      <td>0.0</td>\n",
       "      <td>0.0</td>\n",
       "      <td>0.0</td>\n",
       "      <td>1.0</td>\n",
       "      <td>0.0</td>\n",
       "      <td>0.0</td>\n",
       "      <td>0.0</td>\n",
       "      <td>0.0</td>\n",
       "    </tr>\n",
       "  </tbody>\n",
       "</table>\n",
       "<p>5 rows × 28 columns</p>\n",
       "</div>"
      ],
      "text/plain": [
       "      type  calories burned  climb (m)  duration(s)  distance(m) day_of_week  \\\n",
       "0  Running            774.0        130       3520.0      10440.0      Sunday   \n",
       "1  Running            954.0        168       4454.0      12840.0      Friday   \n",
       "2  Running            967.0        171       4515.0      13010.0      Sunday   \n",
       "3  Running            960.0        169       4454.0      12980.0    Thursday   \n",
       "4  Running            967.0        170       4332.0      13020.0    Saturday   \n",
       "\n",
       "      month  type_Cycling  type_Running  month_April  ...  month_November  \\\n",
       "0  November           0.0           1.0          0.0  ...             1.0   \n",
       "1  November           0.0           1.0          0.0  ...             1.0   \n",
       "2  November           0.0           1.0          0.0  ...             1.0   \n",
       "3  November           0.0           1.0          0.0  ...             1.0   \n",
       "4   October           0.0           1.0          0.0  ...             0.0   \n",
       "\n",
       "   month_October  month_September  day_of_week_Friday  day_of_week_Monday  \\\n",
       "0            0.0              0.0                 0.0                 0.0   \n",
       "1            0.0              0.0                 1.0                 0.0   \n",
       "2            0.0              0.0                 0.0                 0.0   \n",
       "3            0.0              0.0                 0.0                 0.0   \n",
       "4            1.0              0.0                 0.0                 0.0   \n",
       "\n",
       "   day_of_week_Saturday  day_of_week_Sunday  day_of_week_Thursday  \\\n",
       "0                   0.0                 1.0                   0.0   \n",
       "1                   0.0                 0.0                   0.0   \n",
       "2                   0.0                 1.0                   0.0   \n",
       "3                   0.0                 0.0                   1.0   \n",
       "4                   1.0                 0.0                   0.0   \n",
       "\n",
       "   day_of_week_Tuesday  day_of_week_Wednesday  \n",
       "0                  0.0                    0.0  \n",
       "1                  0.0                    0.0  \n",
       "2                  0.0                    0.0  \n",
       "3                  0.0                    0.0  \n",
       "4                  0.0                    0.0  \n",
       "\n",
       "[5 rows x 28 columns]"
      ]
     },
     "execution_count": 63,
     "metadata": {},
     "output_type": "execute_result"
    }
   ],
   "source": [
    "day_of_week_categories = data[['day_of_week']]\n",
    "day_of_week_encoder = OneHotEncoder()\n",
    "one_hot_encoded = day_of_week_encoder.fit_transform(day_of_week_categories).toarray()\n",
    "one_hot_df = pd.DataFrame(one_hot_encoded, columns=day_of_week_encoder.get_feature_names_out(['day_of_week']))\n",
    "data = pd.concat([data, one_hot_df], axis=1)\n",
    "data.head()"
   ]
  },
  {
   "cell_type": "code",
   "execution_count": 64,
   "id": "4a5cfb8a-e632-4e8e-b2ac-92a82627bb2d",
   "metadata": {},
   "outputs": [],
   "source": [
    "with open(f'../api/ml_models/day_of_week_encoder.pkl', \"wb\") as file:\n",
    "    pickle.dump(day_of_week_encoder, file)"
   ]
  },
  {
   "cell_type": "markdown",
   "id": "0262035a-9303-4574-8b3f-592115c3b438",
   "metadata": {},
   "source": [
    "# baseline model"
   ]
  },
  {
   "cell_type": "code",
   "execution_count": 65,
   "id": "dc6cf15b-a368-4c90-bb1a-5b3d048bc05e",
   "metadata": {},
   "outputs": [
    {
     "data": {
      "image/png": "[encoded data removed]",
      "text/plain": [
       "<Figure size 640x480 with 1 Axes>"
      ]
     },
     "metadata": {},
     "output_type": "display_data"
    }
   ],
   "source": [
    "# Create a box plot using Seaborn\n",
    "sns.boxplot(data=data['calories burned'])\n",
    "\n",
    "# Add labels and title\n",
    "\n",
    "plt.ylabel('calories burned')\n",
    "plt.title('Box Plot of calories burned')\n",
    "\n",
    "# Show the plot\n",
    "plt.show()"
   ]
  },
  {
   "cell_type": "code",
   "execution_count": 66,
   "id": "e02c1953-a9b5-4d26-bb84-d5699069dadd",
   "metadata": {},
   "outputs": [
    {
     "data": {
      "image/png": "[encoded data removed]",
      "text/plain": [
       "<Figure size 640x480 with 1 Axes>"
      ]
     },
     "metadata": {},
     "output_type": "display_data"
    }
   ],
   "source": [
    "\n",
    "# Create a density plot using Seaborn\n",
    "sns.kdeplot(data=data, x='calories burned', fill=True)\n",
    "\n",
    "# Add labels and title\n",
    "plt.xlabel('calories burned')\n",
    "plt.ylabel('Density')\n",
    "plt.title('Distribution of calories burned')\n",
    "\n",
    "# Show the plot\n",
    "plt.show();"
   ]
  },
  {
   "cell_type": "code",
   "execution_count": 67,
   "id": "c2ee5db3-f284-4d5b-8e1d-b1e4bee44c35",
   "metadata": {},
   "outputs": [
    {
     "data": {
      "image/png": "[encoded data removed]",
      "text/plain": [
       "<Figure size 640x480 with 1 Axes>"
      ]
     },
     "metadata": {},
     "output_type": "display_data"
    }
   ],
   "source": [
    "\n",
    "# Create a density plot with hue\n",
    "sns.kdeplot(data=data, x='calories burned', hue='type', common_norm=False, fill=True, palette='husl')\n",
    "\n",
    "# Add labels and title\n",
    "plt.ylabel('Density')\n",
    "plt.title('Distribution of calories burned')\n",
    "\n",
    "# Show the plot\n",
    "plt.show()"
   ]
  },
  {
   "cell_type": "code",
   "execution_count": 68,
   "id": "7795f50a-5cc8-4bf5-bae7-b9829b57adeb",
   "metadata": {},
   "outputs": [
    {
     "name": "stdout",
     "output_type": "stream",
     "text": [
      "707.999999795808 480.22727272727275\n"
     ]
    }
   ],
   "source": [
    "running_median = data['calories burned'][data['type']=='Running'].median()\n",
    "cycling_mean = data['calories burned'][data['type']=='Cycling'].mean()\n",
    "def baseline_model(type):\n",
    "    if type.lower()=='running':\n",
    "        return running_median\n",
    "    elif type.lower()=='cycling':\n",
    "        return cycling_mean\n",
    "    else:\n",
    "        raise Exception(f'This model is developed to work on running and cycling types of exercises but not {type}')\n",
    "\n",
    "print(baseline_model('running'), baseline_model('cycling'))"
   ]
  },
  {
   "cell_type": "markdown",
   "id": "e93b37d7-fe1d-4924-baad-62c49982e701",
   "metadata": {},
   "source": [
    "### evaluating the baseline model"
   ]
  },
  {
   "cell_type": "code",
   "execution_count": 69,
   "id": "b709e925-5659-4a3e-ac8c-62621427d5f9",
   "metadata": {},
   "outputs": [
    {
     "name": "stderr",
     "output_type": "stream",
     "text": [
      "/var/folders/6m/z1tx80z53q1gcyb0sbkh1b6h0000gq/T/ipykernel_56088/3657660032.py:2: SettingWithCopyWarning: \n",
      "A value is trying to be set on a copy of a slice from a DataFrame.\n",
      "Try using .loc[row_indexer,col_indexer] = value instead\n",
      "\n",
      "See the caveats in the documentation: https://pandas.pydata.org/pandas-docs/stable/user_guide/indexing.html#returning-a-view-versus-a-copy\n",
      "  df['calories burned baseline'] = df['type'].apply(baseline_model)\n"
     ]
    },
    {
     "data": {
      "text/html": [
       "<div>\n",
       "<style scoped>\n",
       "    .dataframe tbody tr th:only-of-type {\n",
       "        vertical-align: middle;\n",
       "    }\n",
       "\n",
       "    .dataframe tbody tr th {\n",
       "        vertical-align: top;\n",
       "    }\n",
       "\n",
       "    .dataframe thead th {\n",
       "        text-align: right;\n",
       "    }\n",
       "</style>\n",
       "<table border=\"1\" class=\"dataframe\">\n",
       "  <thead>\n",
       "    <tr style=\"text-align: right;\">\n",
       "      <th></th>\n",
       "      <th>type</th>\n",
       "      <th>calories burned</th>\n",
       "      <th>calories burned baseline</th>\n",
       "    </tr>\n",
       "  </thead>\n",
       "  <tbody>\n",
       "    <tr>\n",
       "      <th>0</th>\n",
       "      <td>Running</td>\n",
       "      <td>774.0</td>\n",
       "      <td>708.0</td>\n",
       "    </tr>\n",
       "    <tr>\n",
       "      <th>1</th>\n",
       "      <td>Running</td>\n",
       "      <td>954.0</td>\n",
       "      <td>708.0</td>\n",
       "    </tr>\n",
       "    <tr>\n",
       "      <th>2</th>\n",
       "      <td>Running</td>\n",
       "      <td>967.0</td>\n",
       "      <td>708.0</td>\n",
       "    </tr>\n",
       "    <tr>\n",
       "      <th>3</th>\n",
       "      <td>Running</td>\n",
       "      <td>960.0</td>\n",
       "      <td>708.0</td>\n",
       "    </tr>\n",
       "    <tr>\n",
       "      <th>4</th>\n",
       "      <td>Running</td>\n",
       "      <td>967.0</td>\n",
       "      <td>708.0</td>\n",
       "    </tr>\n",
       "  </tbody>\n",
       "</table>\n",
       "</div>"
      ],
      "text/plain": [
       "      type  calories burned  calories burned baseline\n",
       "0  Running            774.0                     708.0\n",
       "1  Running            954.0                     708.0\n",
       "2  Running            967.0                     708.0\n",
       "3  Running            960.0                     708.0\n",
       "4  Running            967.0                     708.0"
      ]
     },
     "execution_count": 69,
     "metadata": {},
     "output_type": "execute_result"
    }
   ],
   "source": [
    "df = data[['type', 'calories burned']]\n",
    "df['calories burned baseline'] = df['type'].apply(baseline_model)\n",
    "df.head()"
   ]
  },
  {
   "cell_type": "code",
   "execution_count": 70,
   "id": "5ddcea41-c3f1-4a2d-add7-d4a58f813eca",
   "metadata": {},
   "outputs": [
    {
     "name": "stdout",
     "output_type": "stream",
     "text": [
      "Mean Absolute Error (MAE): 203.05\n",
      "Root Mean Squared Error (MSE): 248.50\n",
      "R-squared (R2): 0.04\n"
     ]
    }
   ],
   "source": [
    "mae = mean_absolute_error(df['calories burned'], df['calories burned baseline'])\n",
    "rmse = np.sqrt(mean_squared_error(df['calories burned'], df['calories burned baseline']))\n",
    "r2 = r2_score(df['calories burned'], df['calories burned baseline'])\n",
    "print(f'Mean Absolute Error (MAE): {mae:.2f}')\n",
    "print(f'Root Mean Squared Error (MSE): {rmse:.2f}')\n",
    "print(f'R-squared (R2): {r2:.2f}')"
   ]
  },
  {
   "cell_type": "markdown",
   "id": "7b8f4650-5d81-449b-a614-8c100a2a8108",
   "metadata": {},
   "source": [
    "## train test split"
   ]
  },
  {
   "cell_type": "code",
   "execution_count": 71,
   "id": "51b10e49-f965-41f7-a3bf-dee1adbd0117",
   "metadata": {},
   "outputs": [],
   "source": [
    "data = data.drop(['day_of_week', 'month', 'type'], axis=1)"
   ]
  },
  {
   "cell_type": "code",
   "execution_count": 72,
   "id": "e77c353b-5381-420b-bb9b-2ea314a3f675",
   "metadata": {},
   "outputs": [],
   "source": [
    "y = data['calories burned']\n",
    "X = data.drop('calories burned', axis=1)"
   ]
  },
  {
   "cell_type": "code",
   "execution_count": 73,
   "id": "0ac87f33-e9ac-498d-bd21-1805a4471992",
   "metadata": {},
   "outputs": [],
   "source": [
    "X_train, X_test, y_train, y_test = train_test_split(X, y, test_size=0.2, random_state=42)"
   ]
  },
  {
   "cell_type": "code",
   "execution_count": 74,
   "id": "f2c8c919-fdf5-43d8-8373-2db9f2833635",
   "metadata": {},
   "outputs": [],
   "source": [
    "RMSE = []\n",
    "R2 = []\n",
    "MAE = []\n",
    "MODELS = []\n",
    "MODEL_NAMES = []\n",
    "# Creating a Function to append the cross validation scores of the algorithms\n",
    "def compute_scores(name, model, X_train, X_test, y_train, y_test):\n",
    "    model.fit(X_train, y_train)\n",
    "    preds = model.predict(X_test)\n",
    "    MODEL_NAMES.append(name)\n",
    "    MODELS.append(model)\n",
    "    RMSE.append(np.sqrt(mean_squared_error(y_test, preds)))\n",
    "    R2.append(r2_score(y_test, preds))\n",
    "    MAE.append(mean_absolute_error(y_test, preds))"
   ]
  },
  {
   "cell_type": "code",
   "execution_count": 75,
   "id": "f5beb0b3-2e0d-4d65-8d54-83f462eb236f",
   "metadata": {},
   "outputs": [],
   "source": [
    "names = ['Linear Regression', 'Ridge Regression', 'Lasso Regression',\n",
    "         'K Neighbors Regressor', 'Decision Tree Regressor', \n",
    "         'Random Forest Regressor', 'Gradient Boosting Regressor',\n",
    "         'Adaboost Regressor']\n",
    "models = [LinearRegression(), Ridge(), Lasso(),\n",
    "          KNeighborsRegressor(), DecisionTreeRegressor(),\n",
    "          RandomForestRegressor(), GradientBoostingRegressor(), \n",
    "          AdaBoostRegressor()]\n"
   ]
  },
  {
   "cell_type": "code",
   "execution_count": 76,
   "id": "a816016e-0e38-4ef5-89f6-7d9eef38daf3",
   "metadata": {},
   "outputs": [],
   "source": [
    "#Running all algorithms\n",
    "for name, model in zip(names, models):\n",
    "    compute_scores(name, model, X_train, X_test, y_train, y_test)"
   ]
  },
  {
   "cell_type": "code",
   "execution_count": 77,
   "id": "6eaa9585-7fd5-4026-83d8-d9627d472893",
   "metadata": {},
   "outputs": [
    {
     "name": "stdout",
     "output_type": "stream",
     "text": [
      "FOLLOWING ARE THE TRAINING SCORES: \n"
     ]
    }
   ],
   "source": [
    "evaluation = pd.DataFrame({'Model': MODEL_NAMES,\n",
    "                           'RMSE': RMSE,\n",
    "                           'R Squared': R2,\n",
    "                           'Mean Absolute Error': MAE\n",
    "                          })\n",
    "print(\"FOLLOWING ARE THE TRAINING SCORES: \")\n",
    "evaluation.sort_values(by='Mean Absolute Error', ascending=True, inplace=True)\n"
   ]
  },
  {
   "cell_type": "code",
   "execution_count": 78,
   "id": "a512d913-84c4-4501-8fd2-7a4ad151b74b",
   "metadata": {},
   "outputs": [
    {
     "data": {
      "text/html": [
       "<style type=\"text/css\">\n",
       "#T_3b95c th {\n",
       "  text-align: center;\n",
       "}\n",
       "#T_3b95c_row0_col0, #T_3b95c_row0_col1, #T_3b95c_row0_col2, #T_3b95c_row0_col3, #T_3b95c_row1_col0, #T_3b95c_row1_col1, #T_3b95c_row1_col2, #T_3b95c_row1_col3, #T_3b95c_row2_col0, #T_3b95c_row2_col1, #T_3b95c_row2_col2, #T_3b95c_row2_col3, #T_3b95c_row3_col0, #T_3b95c_row3_col1, #T_3b95c_row3_col2, #T_3b95c_row3_col3, #T_3b95c_row4_col0, #T_3b95c_row4_col1, #T_3b95c_row4_col2, #T_3b95c_row4_col3, #T_3b95c_row5_col0, #T_3b95c_row5_col1, #T_3b95c_row5_col2, #T_3b95c_row5_col3, #T_3b95c_row6_col0, #T_3b95c_row6_col1, #T_3b95c_row6_col2, #T_3b95c_row6_col3, #T_3b95c_row7_col0, #T_3b95c_row7_col1, #T_3b95c_row7_col2, #T_3b95c_row7_col3 {\n",
       "  text-align: center;\n",
       "}\n",
       "</style>\n",
       "<table id=\"T_3b95c\">\n",
       "  <thead>\n",
       "    <tr>\n",
       "      <th class=\"blank level0\" >&nbsp;</th>\n",
       "      <th id=\"T_3b95c_level0_col0\" class=\"col_heading level0 col0\" >Model</th>\n",
       "      <th id=\"T_3b95c_level0_col1\" class=\"col_heading level0 col1\" >RMSE</th>\n",
       "      <th id=\"T_3b95c_level0_col2\" class=\"col_heading level0 col2\" >R Squared</th>\n",
       "      <th id=\"T_3b95c_level0_col3\" class=\"col_heading level0 col3\" >Mean Absolute Error</th>\n",
       "    </tr>\n",
       "  </thead>\n",
       "  <tbody>\n",
       "    <tr>\n",
       "      <th id=\"T_3b95c_level0_row0\" class=\"row_heading level0 row0\" >5</th>\n",
       "      <td id=\"T_3b95c_row0_col0\" class=\"data row0 col0\" >Random Forest Regressor</td>\n",
       "      <td id=\"T_3b95c_row0_col1\" class=\"data row0 col1\" >27.404706</td>\n",
       "      <td id=\"T_3b95c_row0_col2\" class=\"data row0 col2\" >0.989722</td>\n",
       "      <td id=\"T_3b95c_row0_col3\" class=\"data row0 col3\" >16.854092</td>\n",
       "    </tr>\n",
       "    <tr>\n",
       "      <th id=\"T_3b95c_level0_row1\" class=\"row_heading level0 row1\" >3</th>\n",
       "      <td id=\"T_3b95c_row1_col0\" class=\"data row1 col0\" >K Neighbors Regressor</td>\n",
       "      <td id=\"T_3b95c_row1_col1\" class=\"data row1 col1\" >25.666593</td>\n",
       "      <td id=\"T_3b95c_row1_col2\" class=\"data row1 col2\" >0.990984</td>\n",
       "      <td id=\"T_3b95c_row1_col3\" class=\"data row1 col3\" >17.846892</td>\n",
       "    </tr>\n",
       "    <tr>\n",
       "      <th id=\"T_3b95c_level0_row2\" class=\"row_heading level0 row2\" >6</th>\n",
       "      <td id=\"T_3b95c_row2_col0\" class=\"data row2 col0\" >Gradient Boosting Regressor</td>\n",
       "      <td id=\"T_3b95c_row2_col1\" class=\"data row2 col1\" >32.267252</td>\n",
       "      <td id=\"T_3b95c_row2_col2\" class=\"data row2 col2\" >0.985751</td>\n",
       "      <td id=\"T_3b95c_row2_col3\" class=\"data row2 col3\" >19.840365</td>\n",
       "    </tr>\n",
       "    <tr>\n",
       "      <th id=\"T_3b95c_level0_row3\" class=\"row_heading level0 row3\" >4</th>\n",
       "      <td id=\"T_3b95c_row3_col0\" class=\"data row3 col0\" >Decision Tree Regressor</td>\n",
       "      <td id=\"T_3b95c_row3_col1\" class=\"data row3 col1\" >38.497039</td>\n",
       "      <td id=\"T_3b95c_row3_col2\" class=\"data row3 col2\" >0.979718</td>\n",
       "      <td id=\"T_3b95c_row3_col3\" class=\"data row3 col3\" >21.109129</td>\n",
       "    </tr>\n",
       "    <tr>\n",
       "      <th id=\"T_3b95c_level0_row4\" class=\"row_heading level0 row4\" >0</th>\n",
       "      <td id=\"T_3b95c_row4_col0\" class=\"data row4 col0\" >Linear Regression</td>\n",
       "      <td id=\"T_3b95c_row4_col1\" class=\"data row4 col1\" >41.406240</td>\n",
       "      <td id=\"T_3b95c_row4_col2\" class=\"data row4 col2\" >0.976536</td>\n",
       "      <td id=\"T_3b95c_row4_col3\" class=\"data row4 col3\" >26.475038</td>\n",
       "    </tr>\n",
       "    <tr>\n",
       "      <th id=\"T_3b95c_level0_row5\" class=\"row_heading level0 row5\" >1</th>\n",
       "      <td id=\"T_3b95c_row5_col0\" class=\"data row5 col0\" >Ridge Regression</td>\n",
       "      <td id=\"T_3b95c_row5_col1\" class=\"data row5 col1\" >40.712476</td>\n",
       "      <td id=\"T_3b95c_row5_col2\" class=\"data row5 col2\" >0.977316</td>\n",
       "      <td id=\"T_3b95c_row5_col3\" class=\"data row5 col3\" >26.655270</td>\n",
       "    </tr>\n",
       "    <tr>\n",
       "      <th id=\"T_3b95c_level0_row6\" class=\"row_heading level0 row6\" >2</th>\n",
       "      <td id=\"T_3b95c_row6_col0\" class=\"data row6 col0\" >Lasso Regression</td>\n",
       "      <td id=\"T_3b95c_row6_col1\" class=\"data row6 col1\" >42.522057</td>\n",
       "      <td id=\"T_3b95c_row6_col2\" class=\"data row6 col2\" >0.975255</td>\n",
       "      <td id=\"T_3b95c_row6_col3\" class=\"data row6 col3\" >29.433680</td>\n",
       "    </tr>\n",
       "    <tr>\n",
       "      <th id=\"T_3b95c_level0_row7\" class=\"row_heading level0 row7\" >7</th>\n",
       "      <td id=\"T_3b95c_row7_col0\" class=\"data row7 col0\" >Adaboost Regressor</td>\n",
       "      <td id=\"T_3b95c_row7_col1\" class=\"data row7 col1\" >51.628270</td>\n",
       "      <td id=\"T_3b95c_row7_col2\" class=\"data row7 col2\" >0.963521</td>\n",
       "      <td id=\"T_3b95c_row7_col3\" class=\"data row7 col3\" >37.606823</td>\n",
       "    </tr>\n",
       "  </tbody>\n",
       "</table>\n"
      ],
      "text/plain": [
       "<pandas.io.formats.style.Styler at 0x14f0bf130>"
      ]
     },
     "execution_count": 78,
     "metadata": {},
     "output_type": "execute_result"
    }
   ],
   "source": [
    "styled_df = evaluation.style \\\n",
    "    .set_properties(**{'text-align': 'center'}) \\\n",
    "    .set_table_styles([{\n",
    "        'selector': 'th',\n",
    "        'props': [('text-align', 'center')]\n",
    "    }])\n",
    "\n",
    "# Display the styled DataFrame in Jupyter Notebook\n",
    "styled_df"
   ]
  },
  {
   "cell_type": "raw",
   "id": "4ceb1aaf-7d25-4bc8-82b9-6903d4e1d95d",
   "metadata": {},
   "source": [
    "What can be done to improve the model\n",
    "1. cross validation instead of trin test split\n",
    "2. hyper parameter tunning\n",
    "3. trying out other models"
   ]
  },
  {
   "cell_type": "code",
   "execution_count": 79,
   "id": "dc0c6fbb-9402-4261-aa2e-c1152890faf1",
   "metadata": {},
   "outputs": [],
   "source": [
    "best_model = MODELS[-3]"
   ]
  },
  {
   "cell_type": "markdown",
   "id": "ac1d9922-2b84-4cf0-84a8-1d6be8dda02b",
   "metadata": {},
   "source": [
    "## a prediction"
   ]
  },
  {
   "cell_type": "code",
   "execution_count": 80,
   "id": "03b1637e-994f-49c5-9fde-4981ddeed248",
   "metadata": {},
   "outputs": [
    {
     "data": {
      "text/plain": [
       "array([1273.52999987])"
      ]
     },
     "execution_count": 80,
     "metadata": {},
     "output_type": "execute_result"
    }
   ],
   "source": [
    "best_model.predict(X_test.tail(1))"
   ]
  },
  {
   "cell_type": "code",
   "execution_count": 81,
   "id": "d67ac5b6-f82d-4f14-9f14-9b50639663e1",
   "metadata": {},
   "outputs": [
    {
     "data": {
      "text/plain": [
       "17    1286.0\n",
       "Name: calories burned, dtype: float64"
      ]
     },
     "execution_count": 81,
     "metadata": {},
     "output_type": "execute_result"
    }
   ],
   "source": [
    "y_test.tail(1)+25"
   ]
  },
  {
   "cell_type": "code",
   "execution_count": 82,
   "id": "bac95423-9f1a-45b8-bdca-b4ad091d1d0b",
   "metadata": {},
   "outputs": [],
   "source": [
    "with open(f'../api/ml_models/random_forest_regressor.pkl', \"wb\") as file:\n",
    "    pickle.dump(best_model, file)"
   ]
  },
  {
   "cell_type": "markdown",
   "id": "4e747104-451a-45f2-8923-44d3e9da4a15",
   "metadata": {},
   "source": [
    "### prediction data"
   ]
  },
  {
   "cell_type": "code",
   "execution_count": 83,
   "id": "3a36ffd7-9400-41e7-903d-e4cd789c95e0",
   "metadata": {},
   "outputs": [
    {
     "data": {
      "text/plain": [
       "Index(['climb (m)', 'duration(s)', 'distance(m)', 'type_Cycling',\n",
       "       'type_Running', 'month_April', 'month_August', 'month_December',\n",
       "       'month_February', 'month_January', 'month_July', 'month_June',\n",
       "       'month_March', 'month_May', 'month_November', 'month_October',\n",
       "       'month_September', 'day_of_week_Friday', 'day_of_week_Monday',\n",
       "       'day_of_week_Saturday', 'day_of_week_Sunday', 'day_of_week_Thursday',\n",
       "       'day_of_week_Tuesday', 'day_of_week_Wednesday'],\n",
       "      dtype='object')"
      ]
     },
     "execution_count": 83,
     "metadata": {},
     "output_type": "execute_result"
    }
   ],
   "source": [
    "X_test.tail(1).columns"
   ]
  },
  {
   "cell_type": "code",
   "execution_count": null,
   "id": "181a652a-08a0-4713-83fd-49e60933c9eb",
   "metadata": {},
   "outputs": [],
   "source": []
  }
 ],
 "metadata": {
  "kernelspec": {
   "display_name": "Python 3 (ipykernel)",
   "language": "python",
   "name": "python3"
  },
  "language_info": {
   "codemirror_mode": {
    "name": "ipython",
    "version": 3
   },
   "file_extension": ".py",
   "mimetype": "text/x-python",
   "name": "python",
   "nbconvert_exporter": "python",
   "pygments_lexer": "ipython3",
   "version": "3.10.0"
  }
 },
 "nbformat": 4,
 "nbformat_minor": 5
}
